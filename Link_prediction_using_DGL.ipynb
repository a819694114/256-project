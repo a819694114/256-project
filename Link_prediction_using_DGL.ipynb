{
  "cells": [
    {
      "cell_type": "code",
      "execution_count": 1,
      "metadata": {
        "colab": {
          "base_uri": "https://localhost:8080/"
        },
        "id": "Gdu3AkUMeLsq",
        "outputId": "bafdb8e3-8202-47d3-a96a-019281c991f8"
      },
      "outputs": [
        {
          "output_type": "stream",
          "name": "stdout",
          "text": [
            "Mounted at /content/gdrive\n"
          ]
        }
      ],
      "source": [
        "from google.colab import drive\n",
        "drive.mount('/content/gdrive')"
      ]
    },
    {
      "cell_type": "code",
      "source": [
        "!pip install dgl==0.6.1\n",
        "!pip install torch==1.9.1"
      ],
      "metadata": {
        "colab": {
          "base_uri": "https://localhost:8080/"
        },
        "id": "r-lXOOe5f0ol",
        "outputId": "c3d46f52-e452-4db7-a9fb-54bf23e594f5"
      },
      "execution_count": 2,
      "outputs": [
        {
          "output_type": "stream",
          "name": "stdout",
          "text": [
            "Collecting dgl==0.6.1\n",
            "  Downloading dgl-0.6.1-cp37-cp37m-manylinux1_x86_64.whl (4.4 MB)\n",
            "\u001b[K     |████████████████████████████████| 4.4 MB 4.1 MB/s \n",
            "\u001b[?25hRequirement already satisfied: requests>=2.19.0 in /usr/local/lib/python3.7/dist-packages (from dgl==0.6.1) (2.23.0)\n",
            "Requirement already satisfied: numpy>=1.14.0 in /usr/local/lib/python3.7/dist-packages (from dgl==0.6.1) (1.21.6)\n",
            "Requirement already satisfied: scipy>=1.1.0 in /usr/local/lib/python3.7/dist-packages (from dgl==0.6.1) (1.4.1)\n",
            "Requirement already satisfied: networkx>=2.1 in /usr/local/lib/python3.7/dist-packages (from dgl==0.6.1) (2.6.3)\n",
            "Requirement already satisfied: chardet<4,>=3.0.2 in /usr/local/lib/python3.7/dist-packages (from requests>=2.19.0->dgl==0.6.1) (3.0.4)\n",
            "Requirement already satisfied: urllib3!=1.25.0,!=1.25.1,<1.26,>=1.21.1 in /usr/local/lib/python3.7/dist-packages (from requests>=2.19.0->dgl==0.6.1) (1.24.3)\n",
            "Requirement already satisfied: certifi>=2017.4.17 in /usr/local/lib/python3.7/dist-packages (from requests>=2.19.0->dgl==0.6.1) (2021.10.8)\n",
            "Requirement already satisfied: idna<3,>=2.5 in /usr/local/lib/python3.7/dist-packages (from requests>=2.19.0->dgl==0.6.1) (2.10)\n",
            "Installing collected packages: dgl\n",
            "Successfully installed dgl-0.6.1\n",
            "Collecting torch==1.9.1\n",
            "  Downloading torch-1.9.1-cp37-cp37m-manylinux1_x86_64.whl (831.4 MB)\n",
            "\u001b[K     |████████████████████████████████| 831.4 MB 6.2 kB/s \n",
            "\u001b[?25hRequirement already satisfied: typing-extensions in /usr/local/lib/python3.7/dist-packages (from torch==1.9.1) (4.2.0)\n",
            "Installing collected packages: torch\n",
            "  Attempting uninstall: torch\n",
            "    Found existing installation: torch 1.11.0+cu113\n",
            "    Uninstalling torch-1.11.0+cu113:\n",
            "      Successfully uninstalled torch-1.11.0+cu113\n",
            "\u001b[31mERROR: pip's dependency resolver does not currently take into account all the packages that are installed. This behaviour is the source of the following dependency conflicts.\n",
            "torchvision 0.12.0+cu113 requires torch==1.11.0, but you have torch 1.9.1 which is incompatible.\n",
            "torchtext 0.12.0 requires torch==1.11.0, but you have torch 1.9.1 which is incompatible.\n",
            "torchaudio 0.11.0+cu113 requires torch==1.11.0, but you have torch 1.9.1 which is incompatible.\u001b[0m\n",
            "Successfully installed torch-1.9.1\n"
          ]
        }
      ]
    },
    {
      "cell_type": "code",
      "source": [
        "import dgl\n",
        "import torch\n",
        "import torch.nn as nn\n",
        "import torch.nn.functional as F\n",
        "import itertools\n",
        "import numpy as np\n",
        "import scipy.sparse as sp\n",
        "import pandas as pd\n",
        "import networkx as nx\n",
        "import torch as th\n",
        "import random"
      ],
      "metadata": {
        "id": "6z5QxArjiJQs",
        "colab": {
          "base_uri": "https://localhost:8080/"
        },
        "outputId": "1e94f92a-c9ab-4486-d081-57d0c1805526"
      },
      "execution_count": 3,
      "outputs": [
        {
          "output_type": "stream",
          "name": "stderr",
          "text": [
            "DGL backend not selected or invalid.  Assuming PyTorch for now.\n"
          ]
        },
        {
          "output_type": "stream",
          "name": "stdout",
          "text": [
            "Setting the default backend to \"pytorch\". You can change it in the ~/.dgl/config.json file or export the DGLBACKEND environment variable.  Valid options are: pytorch, mxnet, tensorflow (all lowercase)\n"
          ]
        },
        {
          "output_type": "stream",
          "name": "stderr",
          "text": [
            "Using backend: pytorch\n"
          ]
        }
      ]
    },
    {
      "cell_type": "code",
      "source": [
        "df = pd.read_csv('/content/gdrive/MyDrive/PP-Pathways_ppi.csv', header = None)\n",
        "#ds = dgl.data.CSVDataset('/path/to/dataset')\n",
        "random.seed(47)"
      ],
      "metadata": {
        "id": "kUE3cXKDfQKF"
      },
      "execution_count": 4,
      "outputs": []
    },
    {
      "cell_type": "code",
      "source": [
        "G=nx.from_pandas_edgelist(df,  0,  1,create_using=nx.Graph())\n",
        "g=dgl.from_networkx(G)\n",
        "g=dgl.to_bidirected(g)"
      ],
      "metadata": {
        "id": "hK7Oyy2Pipky"
      },
      "execution_count": 5,
      "outputs": []
    },
    {
      "cell_type": "code",
      "source": [
        "print(\"type: \",g.is_multigraph)\n",
        "print(\"No of nodes: \",g.number_of_nodes())\n",
        "print(\"No of edges: \",g.number_of_edges())"
      ],
      "metadata": {
        "colab": {
          "base_uri": "https://localhost:8080/"
        },
        "id": "3V8C4jpajbLW",
        "outputId": "ef8efe61-6f33-4b11-9303-48e02315bbd6"
      },
      "execution_count": 6,
      "outputs": [
        {
          "output_type": "stream",
          "name": "stdout",
          "text": [
            "type:  False\n",
            "No of nodes:  21557\n",
            "No of edges:  680989\n"
          ]
        }
      ]
    },
    {
      "cell_type": "code",
      "source": [
        "# creating features for dataset i,e; `Degree`\n",
        "feature=g.in_degrees()\n",
        "feature=torch.reshape(feature, (21557,1))\n",
        "g.ndata['feat']=feature"
      ],
      "metadata": {
        "id": "MKQsPmGq2Qea"
      },
      "execution_count": 7,
      "outputs": []
    },
    {
      "cell_type": "markdown",
      "source": [
        "#### formulate the link prediction problem as a binary classification problem as follows:\n",
        "\n",
        "- Treat the edges in the graph as positive examples.\n",
        "- Sample a number of non-existent edges (i.e. node pairs with no edges between them) as negative examples.\n",
        "- Divide the positive examples and negative examples into a training set and a test set.\n",
        "- Evaluate the model with any binary classification metric such as Area Under Curve (AUC).\n",
        "\n",
        "- randomly pick 10% of the edges for positive examples in the test set, and leave the rest for the training set. Then samples the same number of edges for negative examples in both sets."
      ],
      "metadata": {
        "id": "AItvlgL1KTdc"
      }
    },
    {
      "cell_type": "code",
      "source": [
        "# ----------- train&test data preparation -------------- #\n",
        "u, v = g.edges()\n",
        "eids = np.arange(g.number_of_edges())\n",
        "eids = np.random.permutation(eids)  #  Disorder the order \n",
        "\n",
        "test_size = int(len(eids) * 0.1)\n",
        "train_size = g.number_of_edges() - test_size\n",
        "test_pos_u, test_pos_v = u[eids[:test_size]], v[eids[:test_size]]\n",
        "train_pos_u, train_pos_v = u[eids[test_size:]], v[eids[test_size:]]\n",
        "\n",
        "adj = sp.coo_matrix((np.ones(len(u)), (u.numpy(), v.numpy())))  #  Use a full 1 vector , And corresponding u and v To construct adjacency matrix \n",
        "adj_neg = 1 - adj.todense() - np.eye(g.number_of_nodes())  #  Obtain the negative sampling adjacency matrix  adj.todense() Indicates that the sparse matrix adj Become a dense matrix \n",
        "neg_u, neg_v = np.where(adj_neg != 0)  #  Negative sampling on adjacency matrix \n",
        "\n",
        "neg_eids = np.random.choice(len(neg_u), g.number_of_edges())\n",
        "test_neg_u, test_neg_v = neg_u[neg_eids[:test_size]], neg_v[neg_eids[:test_size]]\n",
        "train_neg_u, train_neg_v = neg_u[neg_eids[test_size:]], neg_v[neg_eids[test_size:]]"
      ],
      "metadata": {
        "id": "3jEGY672hQCz"
      },
      "execution_count": 8,
      "outputs": []
    },
    {
      "cell_type": "code",
      "source": [
        "train_g = dgl.remove_edges(g, eids[:test_size])"
      ],
      "metadata": {
        "id": "tAIm-EBmibgN"
      },
      "execution_count": 9,
      "outputs": []
    },
    {
      "cell_type": "code",
      "source": [
        "from dgl.nn import SAGEConv\n",
        "\n",
        "# ----------- create model -------------- #\n",
        "# build a two-layer GraphSAGE model\n",
        "class GraphSAGE(nn.Module):\n",
        "    def __init__(self, in_feats, h_feats):\n",
        "        super(GraphSAGE, self).__init__()\n",
        "        self.conv1 = SAGEConv(in_feats, h_feats, 'mean')\n",
        "        self.conv2 = SAGEConv(h_feats, h_feats, 'mean')\n",
        "\n",
        "    def forward(self, g, in_feat):\n",
        "        h = self.conv1(g, in_feat)\n",
        "        h = F.relu(h)\n",
        "        h = self.conv2(g, h)\n",
        "        return h"
      ],
      "metadata": {
        "id": "4dj8DtWeibjF"
      },
      "execution_count": 10,
      "outputs": []
    },
    {
      "cell_type": "code",
      "source": [
        "import dgl.function as fn\n",
        "\n",
        "class DotPredictor(nn.Module):\n",
        "    def forward(self, g, h):\n",
        "        with g.local_scope():\n",
        "            g.ndata['h'] = h\n",
        "            # Compute a new edge feature named 'score' by a dot-product between the\n",
        "            # source node feature 'h' and destination node feature 'h'.\n",
        "            g.apply_edges(fn.u_dot_v('h', 'h', 'score'))\n",
        "            # u_dot_v returns a 1-element vector for each edge so you need to squeeze it.\n",
        "            return g.edata['score'][:, 0]"
      ],
      "metadata": {
        "id": "BM8oujiQFIrD"
      },
      "execution_count": 11,
      "outputs": []
    },
    {
      "cell_type": "code",
      "source": [
        "train_pos_g = dgl.graph((train_pos_u, train_pos_v), num_nodes=g.number_of_nodes())\n",
        "train_neg_g = dgl.graph((train_neg_u, train_neg_v), num_nodes=g.number_of_nodes())\n",
        "\n",
        "test_pos_g = dgl.graph((test_pos_u, test_pos_v), num_nodes=g.number_of_nodes())\n",
        "test_neg_g = dgl.graph((test_neg_u, test_neg_v), num_nodes=g.number_of_nodes())"
      ],
      "metadata": {
        "id": "9c7Dh4E1ibpT"
      },
      "execution_count": 12,
      "outputs": []
    },
    {
      "cell_type": "code",
      "source": [
        "# -----------  set up loss -------------- #\n",
        "def compute_loss(pos_score, neg_score):\n",
        "    scores = torch.cat([pos_score, neg_score])\n",
        "    labels = torch.cat([torch.ones(pos_score.shape[0]), torch.zeros(neg_score.shape[0])])\n",
        "    return F.binary_cross_entropy_with_logits(scores, labels)\n",
        "\n",
        "def compute_auc(pos_score, neg_score):\n",
        "    scores = torch.cat([pos_score, neg_score]).numpy()\n",
        "    labels = torch.cat([torch.ones(pos_score.shape[0]), torch.zeros(neg_score.shape[0])]).numpy()\n",
        "    return roc_auc_score(labels, scores)"
      ],
      "metadata": {
        "id": "-axkt-v4ib6P"
      },
      "execution_count": 14,
      "outputs": []
    },
    {
      "cell_type": "code",
      "source": [
        "model = GraphSAGE(train_g.ndata['feat'].shape[1], 24)\n",
        "pred = DotPredictor()"
      ],
      "metadata": {
        "id": "UFjkISsKGTR6"
      },
      "execution_count": 45,
      "outputs": []
    },
    {
      "cell_type": "code",
      "source": [
        "# ----------- set up optimizer -------------- #\n",
        "# in this case, loss will in training loop\n",
        "optimizer = torch.optim.Adam(itertools.chain(model.parameters(), pred.parameters()), lr=0.01)\n",
        "\n",
        "# ----------- training -------------------------------- #\n",
        "all_logits = []\n",
        "for e in range(350):\n",
        "    # forward\n",
        "    h = model(train_g, train_g.ndata['feat'].float())\n",
        "    pos_score = pred(train_pos_g, h)\n",
        "    neg_score = pred(train_neg_g, h)\n",
        "    loss = compute_loss(pos_score, neg_score)\n",
        "\n",
        "    # backward\n",
        "    optimizer.zero_grad()\n",
        "    loss.backward()\n",
        "    optimizer.step()\n",
        "\n",
        "    if e % 5 == 0:\n",
        "        print('In epoch {}, loss: {}'.format(e, loss))\n"
      ],
      "metadata": {
        "colab": {
          "base_uri": "https://localhost:8080/"
        },
        "id": "WGc5xn5oEcAL",
        "outputId": "cedb8751-c70b-4ca8-ab6b-ef7457412036"
      },
      "execution_count": 46,
      "outputs": [
        {
          "output_type": "stream",
          "name": "stdout",
          "text": [
            "In epoch 0, loss: 242135.765625\n",
            "In epoch 5, loss: 46959.41015625\n",
            "In epoch 10, loss: 15746.13671875\n",
            "In epoch 15, loss: 9321.8212890625\n",
            "In epoch 20, loss: 7715.69580078125\n",
            "In epoch 25, loss: 6353.6328125\n",
            "In epoch 30, loss: 3939.50439453125\n",
            "In epoch 35, loss: 2076.447998046875\n",
            "In epoch 40, loss: 1496.0006103515625\n",
            "In epoch 45, loss: 1400.6455078125\n",
            "In epoch 50, loss: 1253.649658203125\n",
            "In epoch 55, loss: 1048.28173828125\n",
            "In epoch 60, loss: 872.1512451171875\n",
            "In epoch 65, loss: 770.8114013671875\n",
            "In epoch 70, loss: 705.656494140625\n",
            "In epoch 75, loss: 654.2496337890625\n",
            "In epoch 80, loss: 606.6242065429688\n",
            "In epoch 85, loss: 563.923583984375\n",
            "In epoch 90, loss: 524.923583984375\n",
            "In epoch 95, loss: 489.056884765625\n",
            "In epoch 100, loss: 456.8757629394531\n",
            "In epoch 105, loss: 428.4031066894531\n",
            "In epoch 110, loss: 402.9245300292969\n",
            "In epoch 115, loss: 379.7430114746094\n",
            "In epoch 120, loss: 358.5909423828125\n",
            "In epoch 125, loss: 339.1639099121094\n",
            "In epoch 130, loss: 321.11553955078125\n",
            "In epoch 135, loss: 304.3207092285156\n",
            "In epoch 140, loss: 288.6490173339844\n",
            "In epoch 145, loss: 273.9716491699219\n",
            "In epoch 150, loss: 260.2350158691406\n",
            "In epoch 155, loss: 247.37135314941406\n",
            "In epoch 160, loss: 235.45970153808594\n",
            "In epoch 165, loss: 224.68016052246094\n",
            "In epoch 170, loss: 214.97486877441406\n",
            "In epoch 175, loss: 206.1981201171875\n",
            "In epoch 180, loss: 198.0962677001953\n",
            "In epoch 185, loss: 190.4512939453125\n",
            "In epoch 190, loss: 183.169921875\n",
            "In epoch 195, loss: 176.22756958007812\n",
            "In epoch 200, loss: 169.62283325195312\n",
            "In epoch 205, loss: 163.32382202148438\n",
            "In epoch 210, loss: 157.3105010986328\n",
            "In epoch 215, loss: 151.57052612304688\n",
            "In epoch 220, loss: 146.09017944335938\n",
            "In epoch 225, loss: 140.85560607910156\n",
            "In epoch 230, loss: 135.8593292236328\n",
            "In epoch 235, loss: 131.08677673339844\n",
            "In epoch 240, loss: 126.52864837646484\n",
            "In epoch 245, loss: 122.1788558959961\n",
            "In epoch 250, loss: 118.02424621582031\n",
            "In epoch 255, loss: 114.05803680419922\n",
            "In epoch 260, loss: 110.26045227050781\n",
            "In epoch 265, loss: 106.62662506103516\n",
            "In epoch 270, loss: 103.1536865234375\n",
            "In epoch 275, loss: 99.83319091796875\n",
            "In epoch 280, loss: 96.65816497802734\n",
            "In epoch 285, loss: 93.61775970458984\n",
            "In epoch 290, loss: 90.7060775756836\n",
            "In epoch 295, loss: 87.91695404052734\n",
            "In epoch 300, loss: 85.24018096923828\n",
            "In epoch 305, loss: 82.6720199584961\n",
            "In epoch 310, loss: 80.2073745727539\n",
            "In epoch 315, loss: 77.84120178222656\n",
            "In epoch 320, loss: 75.5666275024414\n",
            "In epoch 325, loss: 73.37903594970703\n",
            "In epoch 330, loss: 71.27226257324219\n",
            "In epoch 335, loss: 69.24286651611328\n",
            "In epoch 340, loss: 67.28657531738281\n",
            "In epoch 345, loss: 65.3974380493164\n"
          ]
        }
      ]
    },
    {
      "cell_type": "code",
      "source": [
        "# ----------- check results ------------------------ #\n",
        "from sklearn.metrics import roc_auc_score\n",
        "with torch.no_grad():\n",
        "    pos_score = pred(test_pos_g, h)\n",
        "    neg_score = pred(test_neg_g, h)\n",
        "    print('AUC', compute_auc(pos_score, neg_score))"
      ],
      "metadata": {
        "colab": {
          "base_uri": "https://localhost:8080/"
        },
        "id": "QXDeop_3FYPr",
        "outputId": "4eceda17-0710-41b3-e82f-5b04be01a4ea"
      },
      "execution_count": 47,
      "outputs": [
        {
          "output_type": "stream",
          "name": "stdout",
          "text": [
            "AUC 0.8272846858703713\n"
          ]
        }
      ]
    },
    {
      "cell_type": "code",
      "source": [
        "scores = torch.cat([pos_score, neg_score])\n",
        "labels = torch.cat([torch.ones(pos_score.shape[0]), torch.zeros(neg_score.shape[0])]).numpy()\n",
        "f_score = torch.sigmoid(scores)"
      ],
      "metadata": {
        "id": "Mvum13IwXaIk"
      },
      "execution_count": 52,
      "outputs": []
    },
    {
      "cell_type": "code",
      "source": [
        "z=list()\n",
        "for i in f_score:\n",
        "  if i>0.7:\n",
        "    z.append(1)\n",
        "  else:\n",
        "    z.append(0)"
      ],
      "metadata": {
        "id": "yd6SN41Pdt8E"
      },
      "execution_count": 53,
      "outputs": []
    },
    {
      "cell_type": "code",
      "source": [
        "from sklearn.metrics import recall_score, accuracy_score\n",
        "print('Accuracy', accuracy_score(labels, z))\n",
        "print('Recall', recall_score(labels, z))"
      ],
      "metadata": {
        "colab": {
          "base_uri": "https://localhost:8080/"
        },
        "id": "Vs0dRvBiWoIL",
        "outputId": "cd9afbb2-7eb9-4ad1-a0f9-73d72b2e7ef8"
      },
      "execution_count": 54,
      "outputs": [
        {
          "output_type": "stream",
          "name": "stdout",
          "text": [
            "Accuracy 0.6988310963611266\n",
            "Recall 0.8697465417486564\n"
          ]
        }
      ]
    }
  ],
  "metadata": {
    "accelerator": "GPU",
    "colab": {
      "machine_shape": "hm",
      "name": "Link prediction using DGL",
      "provenance": [],
      "collapsed_sections": []
    },
    "kernelspec": {
      "display_name": "Python 3",
      "name": "python3"
    },
    "language_info": {
      "name": "python"
    }
  },
  "nbformat": 4,
  "nbformat_minor": 0
}