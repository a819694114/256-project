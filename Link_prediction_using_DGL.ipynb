{
  "cells": [
    {
      "cell_type": "code",
      "execution_count": 1,
      "metadata": {
        "colab": {
          "base_uri": "https://localhost:8080/"
        },
        "id": "Gdu3AkUMeLsq",
        "outputId": "d1ad7ac8-7493-419a-bbc0-e5131bd178bb"
      },
      "outputs": [
        {
          "output_type": "stream",
          "name": "stdout",
          "text": [
            "Mounted at /content/gdrive\n"
          ]
        }
      ],
      "source": [
        "from google.colab import drive\n",
        "drive.mount('/content/gdrive')"
      ]
    },
    {
      "cell_type": "code",
      "source": [
        "!pip install dgl==0.6.1\n",
        "!pip install torch==1.9.1"
      ],
      "metadata": {
        "colab": {
          "base_uri": "https://localhost:8080/"
        },
        "id": "r-lXOOe5f0ol",
        "outputId": "c933afcc-f809-43d0-efe7-6ec6aa7e6a94"
      },
      "execution_count": 3,
      "outputs": [
        {
          "output_type": "stream",
          "name": "stdout",
          "text": [
            "Collecting dgl==0.6.1\n",
            "  Downloading dgl-0.6.1-cp37-cp37m-manylinux1_x86_64.whl (4.4 MB)\n",
            "\u001b[K     |████████████████████████████████| 4.4 MB 33.2 MB/s \n",
            "\u001b[?25hRequirement already satisfied: networkx>=2.1 in /usr/local/lib/python3.7/dist-packages (from dgl==0.6.1) (2.6.3)\n",
            "Requirement already satisfied: scipy>=1.1.0 in /usr/local/lib/python3.7/dist-packages (from dgl==0.6.1) (1.4.1)\n",
            "Requirement already satisfied: numpy>=1.14.0 in /usr/local/lib/python3.7/dist-packages (from dgl==0.6.1) (1.21.6)\n",
            "Requirement already satisfied: requests>=2.19.0 in /usr/local/lib/python3.7/dist-packages (from dgl==0.6.1) (2.23.0)\n",
            "Requirement already satisfied: idna<3,>=2.5 in /usr/local/lib/python3.7/dist-packages (from requests>=2.19.0->dgl==0.6.1) (2.10)\n",
            "Requirement already satisfied: urllib3!=1.25.0,!=1.25.1,<1.26,>=1.21.1 in /usr/local/lib/python3.7/dist-packages (from requests>=2.19.0->dgl==0.6.1) (1.24.3)\n",
            "Requirement already satisfied: certifi>=2017.4.17 in /usr/local/lib/python3.7/dist-packages (from requests>=2.19.0->dgl==0.6.1) (2021.10.8)\n",
            "Requirement already satisfied: chardet<4,>=3.0.2 in /usr/local/lib/python3.7/dist-packages (from requests>=2.19.0->dgl==0.6.1) (3.0.4)\n",
            "Installing collected packages: dgl\n",
            "Successfully installed dgl-0.6.1\n",
            "Collecting torch==1.9.1\n",
            "  Downloading torch-1.9.1-cp37-cp37m-manylinux1_x86_64.whl (831.4 MB)\n",
            "\u001b[K     |████████████████████████████████| 831.4 MB 5.6 kB/s \n",
            "\u001b[?25hRequirement already satisfied: typing-extensions in /usr/local/lib/python3.7/dist-packages (from torch==1.9.1) (4.2.0)\n",
            "Installing collected packages: torch\n",
            "  Attempting uninstall: torch\n",
            "    Found existing installation: torch 1.11.0+cu113\n",
            "    Uninstalling torch-1.11.0+cu113:\n",
            "      Successfully uninstalled torch-1.11.0+cu113\n",
            "\u001b[31mERROR: pip's dependency resolver does not currently take into account all the packages that are installed. This behaviour is the source of the following dependency conflicts.\n",
            "torchvision 0.12.0+cu113 requires torch==1.11.0, but you have torch 1.9.1 which is incompatible.\n",
            "torchtext 0.12.0 requires torch==1.11.0, but you have torch 1.9.1 which is incompatible.\n",
            "torchaudio 0.11.0+cu113 requires torch==1.11.0, but you have torch 1.9.1 which is incompatible.\u001b[0m\n",
            "Successfully installed torch-1.9.1\n"
          ]
        }
      ]
    },
    {
      "cell_type": "code",
      "source": [
        "import dgl\n",
        "import torch\n",
        "import torch.nn as nn\n",
        "import torch.nn.functional as F\n",
        "import itertools\n",
        "import numpy as np\n",
        "import scipy.sparse as sp\n",
        "import pandas as pd\n",
        "import networkx as nx\n",
        "import torch as th\n",
        "import random"
      ],
      "metadata": {
        "id": "6z5QxArjiJQs"
      },
      "execution_count": 21,
      "outputs": []
    },
    {
      "cell_type": "code",
      "source": [
        "df = pd.read_csv('/content/gdrive/MyDrive/PP-Pathways_ppi.csv', header = None)\n",
        "#ds = dgl.data.CSVDataset('/path/to/dataset')\n",
        "random.seed(47)"
      ],
      "metadata": {
        "id": "kUE3cXKDfQKF"
      },
      "execution_count": 22,
      "outputs": []
    },
    {
      "cell_type": "code",
      "source": [
        "G=nx.from_pandas_edgelist(df,  0,  1,create_using=nx.Graph())\n",
        "g=dgl.from_networkx(G)\n",
        "g=dgl.to_bidirected(g)"
      ],
      "metadata": {
        "id": "hK7Oyy2Pipky"
      },
      "execution_count": 23,
      "outputs": []
    },
    {
      "cell_type": "code",
      "source": [
        "print(\"type: \",g.is_multigraph)\n",
        "print(\"No of nodes: \",g.number_of_nodes())\n",
        "print(\"No of edges: \",g.number_of_edges())"
      ],
      "metadata": {
        "colab": {
          "base_uri": "https://localhost:8080/"
        },
        "id": "3V8C4jpajbLW",
        "outputId": "802fcbf4-9fd6-443e-8acf-d11e3a32f74d"
      },
      "execution_count": 24,
      "outputs": [
        {
          "output_type": "stream",
          "name": "stdout",
          "text": [
            "type:  False\n",
            "No of nodes:  21557\n",
            "No of edges:  680989\n"
          ]
        }
      ]
    },
    {
      "cell_type": "code",
      "source": [
        "# creating features for dataset i,e; `Degree`\n",
        "feature=g.in_degrees()\n",
        "feature=torch.reshape(feature, (21557,1))\n",
        "g.ndata['feat']=feature"
      ],
      "metadata": {
        "id": "MKQsPmGq2Qea"
      },
      "execution_count": 25,
      "outputs": []
    },
    {
      "cell_type": "markdown",
      "source": [
        "#### formulate the link prediction problem as a binary classification problem as follows:\n",
        "\n",
        "- Treat the edges in the graph as positive examples.\n",
        "- Sample a number of non-existent edges (i.e. node pairs with no edges between them) as negative examples.\n",
        "- Divide the positive examples and negative examples into a training set and a test set.\n",
        "- Evaluate the model with any binary classification metric such as Area Under Curve (AUC).\n",
        "\n",
        "- randomly pick 10% of the edges for positive examples in the test set, and leave the rest for the training set. Then samples the same number of edges for negative examples in both sets."
      ],
      "metadata": {
        "id": "AItvlgL1KTdc"
      }
    },
    {
      "cell_type": "code",
      "source": [
        "u, v = g.edges()\n",
        "eids = np.arange(g.number_of_edges())\n",
        "eids = np.random.permutation(eids)  #  Disorder the order \n",
        "\n",
        "test_size = int(len(eids) * 0.1)\n",
        "train_size = g.number_of_edges() - test_size\n",
        "test_pos_u, test_pos_v = u[eids[:test_size]], v[eids[:test_size]]\n",
        "train_pos_u, train_pos_v = u[eids[test_size:]], v[eids[test_size:]]\n",
        "\n",
        "adj = sp.coo_matrix((np.ones(len(u)), (u.numpy(), v.numpy())))  #  Use a full 1 vector , And corresponding u and v To construct adjacency matrix \n",
        "adj_neg = 1 - adj.todense() - np.eye(g.number_of_nodes())  #  Obtain the negative sampling adjacency matrix  adj.todense() Indicates that the sparse matrix adj Become a dense matrix \n",
        "neg_u, neg_v = np.where(adj_neg != 0)  #  Negative sampling on adjacency matrix \n",
        "\n",
        "neg_eids = np.random.choice(len(neg_u), g.number_of_edges())\n",
        "test_neg_u, test_neg_v = neg_u[neg_eids[:test_size]], neg_v[neg_eids[:test_size]]\n",
        "train_neg_u, train_neg_v = neg_u[neg_eids[test_size:]], neg_v[neg_eids[test_size:]]"
      ],
      "metadata": {
        "id": "3jEGY672hQCz"
      },
      "execution_count": 26,
      "outputs": []
    },
    {
      "cell_type": "code",
      "source": [
        "train_g = dgl.remove_edges(g, eids[:test_size])"
      ],
      "metadata": {
        "id": "tAIm-EBmibgN"
      },
      "execution_count": 27,
      "outputs": []
    },
    {
      "cell_type": "code",
      "source": [
        "from dgl.nn import SAGEConv\n",
        "\n",
        "# ----------- 2. create model -------------- #\n",
        "# build a two-layer GraphSAGE model\n",
        "class GraphSAGE(nn.Module):\n",
        "    def __init__(self, in_feats, h_feats):\n",
        "        super(GraphSAGE, self).__init__()\n",
        "        self.conv1 = SAGEConv(in_feats, h_feats, 'mean')\n",
        "        self.conv2 = SAGEConv(h_feats, h_feats, 'mean')\n",
        "\n",
        "    def forward(self, g, in_feat):\n",
        "        h = self.conv1(g, in_feat)\n",
        "        h = F.relu(h)\n",
        "        h = self.conv2(g, h)\n",
        "        return h"
      ],
      "metadata": {
        "id": "4dj8DtWeibjF"
      },
      "execution_count": 28,
      "outputs": []
    },
    {
      "cell_type": "code",
      "source": [
        "import dgl.function as fn\n",
        "\n",
        "class DotPredictor(nn.Module):\n",
        "    def forward(self, g, h):\n",
        "        with g.local_scope():\n",
        "            g.ndata['h'] = h\n",
        "            # Compute a new edge feature named 'score' by a dot-product between the\n",
        "            # source node feature 'h' and destination node feature 'h'.\n",
        "            g.apply_edges(fn.u_dot_v('h', 'h', 'score'))\n",
        "            # u_dot_v returns a 1-element vector for each edge so you need to squeeze it.\n",
        "            return g.edata['score'][:, 0]"
      ],
      "metadata": {
        "id": "BM8oujiQFIrD"
      },
      "execution_count": 29,
      "outputs": []
    },
    {
      "cell_type": "code",
      "source": [
        "train_pos_g = dgl.graph((train_pos_u, train_pos_v), num_nodes=g.number_of_nodes())\n",
        "train_neg_g = dgl.graph((train_neg_u, train_neg_v), num_nodes=g.number_of_nodes())\n",
        "\n",
        "test_pos_g = dgl.graph((test_pos_u, test_pos_v), num_nodes=g.number_of_nodes())\n",
        "test_neg_g = dgl.graph((test_neg_u, test_neg_v), num_nodes=g.number_of_nodes())"
      ],
      "metadata": {
        "id": "9c7Dh4E1ibpT"
      },
      "execution_count": 30,
      "outputs": []
    },
    {
      "cell_type": "code",
      "source": [
        "\n",
        "def compute_loss(pos_score, neg_score):\n",
        "    scores = torch.cat([pos_score, neg_score])\n",
        "    labels = torch.cat([torch.ones(pos_score.shape[0]), torch.zeros(neg_score.shape[0])])\n",
        "    return F.binary_cross_entropy_with_logits(scores, labels)\n",
        "\n",
        "def compute_auc(pos_score, neg_score):\n",
        "    scores = torch.cat([pos_score, neg_score]).numpy()\n",
        "    labels = torch.cat(\n",
        "        [torch.ones(pos_score.shape[0]), torch.zeros(neg_score.shape[0])]).numpy()\n",
        "    return roc_auc_score(labels, scores)\n",
        "\n"
      ],
      "metadata": {
        "id": "-axkt-v4ib6P"
      },
      "execution_count": 31,
      "outputs": []
    },
    {
      "cell_type": "code",
      "source": [
        "model = GraphSAGE(train_g.ndata['feat'].shape[1], 24)\n",
        "pred = DotPredictor()"
      ],
      "metadata": {
        "id": "UFjkISsKGTR6"
      },
      "execution_count": 32,
      "outputs": []
    },
    {
      "cell_type": "code",
      "source": [
        "# ----------- 3. set up loss and optimizer -------------- #\n",
        "# in this case, loss will in training loop\n",
        "optimizer = torch.optim.Adam(itertools.chain(model.parameters(), pred.parameters()), lr=0.01)\n",
        "\n",
        "# ----------- 4. training -------------------------------- #\n",
        "all_logits = []\n",
        "for e in range(350):\n",
        "    # forward\n",
        "    h = model(train_g, train_g.ndata['feat'].float())\n",
        "    pos_score = pred(train_pos_g, h)\n",
        "    neg_score = pred(train_neg_g, h)\n",
        "    loss = compute_loss(pos_score, neg_score)\n",
        "\n",
        "    # backward\n",
        "    optimizer.zero_grad()\n",
        "    loss.backward()\n",
        "    optimizer.step()\n",
        "\n",
        "    if e % 5 == 0:\n",
        "        print('In epoch {}, loss: {}'.format(e, loss))\n"
      ],
      "metadata": {
        "colab": {
          "base_uri": "https://localhost:8080/"
        },
        "id": "WGc5xn5oEcAL",
        "outputId": "07b78a54-386e-436c-fd19-7edcd30d9331"
      },
      "execution_count": 33,
      "outputs": [
        {
          "output_type": "stream",
          "name": "stdout",
          "text": [
            "In epoch 0, loss: 358703.3125\n",
            "In epoch 5, loss: 68061.453125\n",
            "In epoch 10, loss: 19094.791015625\n",
            "In epoch 15, loss: 16641.2578125\n",
            "In epoch 20, loss: 11313.10546875\n",
            "In epoch 25, loss: 7252.27197265625\n",
            "In epoch 30, loss: 4897.7392578125\n",
            "In epoch 35, loss: 2768.9716796875\n",
            "In epoch 40, loss: 1808.370849609375\n",
            "In epoch 45, loss: 1512.4710693359375\n",
            "In epoch 50, loss: 1346.7034912109375\n",
            "In epoch 55, loss: 1140.1376953125\n",
            "In epoch 60, loss: 926.1487426757812\n",
            "In epoch 65, loss: 775.4495849609375\n",
            "In epoch 70, loss: 698.5653686523438\n",
            "In epoch 75, loss: 658.1506958007812\n",
            "In epoch 80, loss: 622.3213500976562\n",
            "In epoch 85, loss: 585.63134765625\n",
            "In epoch 90, loss: 552.7191162109375\n",
            "In epoch 95, loss: 523.5584106445312\n",
            "In epoch 100, loss: 497.858642578125\n",
            "In epoch 105, loss: 475.5787353515625\n",
            "In epoch 110, loss: 454.7919921875\n",
            "In epoch 115, loss: 434.9115905761719\n",
            "In epoch 120, loss: 416.3943176269531\n",
            "In epoch 125, loss: 399.2481384277344\n",
            "In epoch 130, loss: 382.4240417480469\n",
            "In epoch 135, loss: 367.0504150390625\n",
            "In epoch 140, loss: 352.2802734375\n",
            "In epoch 145, loss: 338.3320007324219\n",
            "In epoch 150, loss: 325.70391845703125\n",
            "In epoch 155, loss: 316.1717834472656\n",
            "In epoch 160, loss: 300.69793701171875\n",
            "In epoch 165, loss: 290.6616516113281\n",
            "In epoch 170, loss: 277.8653259277344\n",
            "In epoch 175, loss: 268.4525146484375\n",
            "In epoch 180, loss: 258.1283874511719\n",
            "In epoch 185, loss: 246.99977111816406\n",
            "In epoch 190, loss: 238.5577850341797\n",
            "In epoch 195, loss: 228.76242065429688\n",
            "In epoch 200, loss: 219.9747772216797\n",
            "In epoch 205, loss: 211.75820922851562\n",
            "In epoch 210, loss: 203.6910858154297\n",
            "In epoch 215, loss: 196.00018310546875\n",
            "In epoch 220, loss: 188.66583251953125\n",
            "In epoch 225, loss: 181.69532775878906\n",
            "In epoch 230, loss: 175.0555419921875\n",
            "In epoch 235, loss: 168.7187042236328\n",
            "In epoch 240, loss: 162.66664123535156\n",
            "In epoch 245, loss: 156.87916564941406\n",
            "In epoch 250, loss: 151.34347534179688\n",
            "In epoch 255, loss: 146.03280639648438\n",
            "In epoch 260, loss: 140.9351806640625\n",
            "In epoch 265, loss: 136.0433807373047\n",
            "In epoch 270, loss: 131.3402557373047\n",
            "In epoch 275, loss: 126.81338500976562\n",
            "In epoch 280, loss: 122.46052551269531\n",
            "In epoch 285, loss: 118.27188873291016\n",
            "In epoch 290, loss: 114.24325561523438\n",
            "In epoch 295, loss: 110.3732681274414\n",
            "In epoch 300, loss: 106.64234161376953\n",
            "In epoch 305, loss: 103.05574035644531\n",
            "In epoch 310, loss: 99.60689544677734\n",
            "In epoch 315, loss: 96.28782653808594\n",
            "In epoch 320, loss: 93.09600067138672\n",
            "In epoch 325, loss: 90.02885437011719\n",
            "In epoch 330, loss: 87.08145141601562\n",
            "In epoch 335, loss: 84.26200866699219\n",
            "In epoch 340, loss: 81.55677795410156\n",
            "In epoch 345, loss: 78.97892761230469\n"
          ]
        }
      ]
    },
    {
      "cell_type": "code",
      "source": [
        "# ----------- 5. check results ------------------------ #\n",
        "from sklearn.metrics import roc_auc_score\n",
        "with torch.no_grad():\n",
        "    pos_score = pred(test_pos_g, h)\n",
        "    neg_score = pred(test_neg_g, h)\n",
        "    print('AUC', compute_auc(pos_score, neg_score))"
      ],
      "metadata": {
        "colab": {
          "base_uri": "https://localhost:8080/"
        },
        "id": "QXDeop_3FYPr",
        "outputId": "bb507cc5-9a09-4a6e-e1e3-486dce6cc53b"
      },
      "execution_count": 34,
      "outputs": [
        {
          "output_type": "stream",
          "name": "stdout",
          "text": [
            "AUC 0.8155434542306832\n"
          ]
        }
      ]
    }
  ],
  "metadata": {
    "accelerator": "GPU",
    "colab": {
      "machine_shape": "hm",
      "name": "Link prediction using DGL",
      "provenance": [],
      "collapsed_sections": []
    },
    "kernelspec": {
      "display_name": "Python 3",
      "name": "python3"
    },
    "language_info": {
      "name": "python"
    }
  },
  "nbformat": 4,
  "nbformat_minor": 0
}