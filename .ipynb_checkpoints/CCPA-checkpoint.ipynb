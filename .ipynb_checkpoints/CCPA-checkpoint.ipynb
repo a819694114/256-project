{
 "cells": [
  {
   "cell_type": "code",
   "execution_count": 11,
   "metadata": {},
   "outputs": [],
   "source": [
    "import networkx as nx\n",
    "import pandas as pd\n",
    "from sklearn.model_selection import train_test_split"
   ]
  },
  {
   "cell_type": "code",
   "execution_count": 12,
   "metadata": {},
   "outputs": [],
   "source": [
    "f = pd.read_csv('PP-Pathways_ppi.csv', header = None)"
   ]
  },
  {
   "cell_type": "code",
   "execution_count": 13,
   "metadata": {},
   "outputs": [
    {
     "data": {
      "text/html": [
       "<div>\n",
       "<style scoped>\n",
       "    .dataframe tbody tr th:only-of-type {\n",
       "        vertical-align: middle;\n",
       "    }\n",
       "\n",
       "    .dataframe tbody tr th {\n",
       "        vertical-align: top;\n",
       "    }\n",
       "\n",
       "    .dataframe thead th {\n",
       "        text-align: right;\n",
       "    }\n",
       "</style>\n",
       "<table border=\"1\" class=\"dataframe\">\n",
       "  <thead>\n",
       "    <tr style=\"text-align: right;\">\n",
       "      <th></th>\n",
       "      <th>0</th>\n",
       "      <th>1</th>\n",
       "    </tr>\n",
       "  </thead>\n",
       "  <tbody>\n",
       "    <tr>\n",
       "      <th>0</th>\n",
       "      <td>1394</td>\n",
       "      <td>2778</td>\n",
       "    </tr>\n",
       "    <tr>\n",
       "      <th>1</th>\n",
       "      <td>6331</td>\n",
       "      <td>17999</td>\n",
       "    </tr>\n",
       "    <tr>\n",
       "      <th>2</th>\n",
       "      <td>122704</td>\n",
       "      <td>54460</td>\n",
       "    </tr>\n",
       "    <tr>\n",
       "      <th>3</th>\n",
       "      <td>2597</td>\n",
       "      <td>2911</td>\n",
       "    </tr>\n",
       "    <tr>\n",
       "      <th>4</th>\n",
       "      <td>4790</td>\n",
       "      <td>79155</td>\n",
       "    </tr>\n",
       "    <tr>\n",
       "      <th>...</th>\n",
       "      <td>...</td>\n",
       "      <td>...</td>\n",
       "    </tr>\n",
       "    <tr>\n",
       "      <th>342348</th>\n",
       "      <td>10969</td>\n",
       "      <td>4670</td>\n",
       "    </tr>\n",
       "    <tr>\n",
       "      <th>342349</th>\n",
       "      <td>6774</td>\n",
       "      <td>55748</td>\n",
       "    </tr>\n",
       "    <tr>\n",
       "      <th>342350</th>\n",
       "      <td>23299</td>\n",
       "      <td>399693</td>\n",
       "    </tr>\n",
       "    <tr>\n",
       "      <th>342351</th>\n",
       "      <td>9247</td>\n",
       "      <td>337967</td>\n",
       "    </tr>\n",
       "    <tr>\n",
       "      <th>342352</th>\n",
       "      <td>23193</td>\n",
       "      <td>7077</td>\n",
       "    </tr>\n",
       "  </tbody>\n",
       "</table>\n",
       "<p>342353 rows × 2 columns</p>\n",
       "</div>"
      ],
      "text/plain": [
       "             0       1\n",
       "0         1394    2778\n",
       "1         6331   17999\n",
       "2       122704   54460\n",
       "3         2597    2911\n",
       "4         4790   79155\n",
       "...        ...     ...\n",
       "342348   10969    4670\n",
       "342349    6774   55748\n",
       "342350   23299  399693\n",
       "342351    9247  337967\n",
       "342352   23193    7077\n",
       "\n",
       "[342353 rows x 2 columns]"
      ]
     },
     "execution_count": 13,
     "metadata": {},
     "output_type": "execute_result"
    }
   ],
   "source": [
    "f"
   ]
  },
  {
   "cell_type": "code",
   "execution_count": 14,
   "metadata": {},
   "outputs": [],
   "source": [
    "G = nx.from_pandas_edgelist(f,  0,  1)"
   ]
  },
  {
   "cell_type": "code",
   "execution_count": 15,
   "metadata": {},
   "outputs": [],
   "source": [
    "sub, _ = train_test_split(f, random_state = 0, train_size = 0.05)"
   ]
  },
  {
   "cell_type": "code",
   "execution_count": 16,
   "metadata": {},
   "outputs": [
    {
     "data": {
      "text/html": [
       "<div>\n",
       "<style scoped>\n",
       "    .dataframe tbody tr th:only-of-type {\n",
       "        vertical-align: middle;\n",
       "    }\n",
       "\n",
       "    .dataframe tbody tr th {\n",
       "        vertical-align: top;\n",
       "    }\n",
       "\n",
       "    .dataframe thead th {\n",
       "        text-align: right;\n",
       "    }\n",
       "</style>\n",
       "<table border=\"1\" class=\"dataframe\">\n",
       "  <thead>\n",
       "    <tr style=\"text-align: right;\">\n",
       "      <th></th>\n",
       "      <th>0</th>\n",
       "      <th>1</th>\n",
       "    </tr>\n",
       "  </thead>\n",
       "  <tbody>\n",
       "    <tr>\n",
       "      <th>238004</th>\n",
       "      <td>25959</td>\n",
       "      <td>63978</td>\n",
       "    </tr>\n",
       "    <tr>\n",
       "      <th>3227</th>\n",
       "      <td>7316</td>\n",
       "      <td>23352</td>\n",
       "    </tr>\n",
       "    <tr>\n",
       "      <th>137821</th>\n",
       "      <td>3567</td>\n",
       "      <td>3567</td>\n",
       "    </tr>\n",
       "    <tr>\n",
       "      <th>174346</th>\n",
       "      <td>5594</td>\n",
       "      <td>8335</td>\n",
       "    </tr>\n",
       "    <tr>\n",
       "      <th>328207</th>\n",
       "      <td>2580</td>\n",
       "      <td>64397</td>\n",
       "    </tr>\n",
       "    <tr>\n",
       "      <th>...</th>\n",
       "      <td>...</td>\n",
       "      <td>...</td>\n",
       "    </tr>\n",
       "    <tr>\n",
       "      <th>122579</th>\n",
       "      <td>7417</td>\n",
       "      <td>55967</td>\n",
       "    </tr>\n",
       "    <tr>\n",
       "      <th>304137</th>\n",
       "      <td>286077</td>\n",
       "      <td>23623</td>\n",
       "    </tr>\n",
       "    <tr>\n",
       "      <th>152315</th>\n",
       "      <td>58477</td>\n",
       "      <td>7444</td>\n",
       "    </tr>\n",
       "    <tr>\n",
       "      <th>117952</th>\n",
       "      <td>5795</td>\n",
       "      <td>63978</td>\n",
       "    </tr>\n",
       "    <tr>\n",
       "      <th>305711</th>\n",
       "      <td>10075</td>\n",
       "      <td>8607</td>\n",
       "    </tr>\n",
       "  </tbody>\n",
       "</table>\n",
       "<p>17117 rows × 2 columns</p>\n",
       "</div>"
      ],
      "text/plain": [
       "             0      1\n",
       "238004   25959  63978\n",
       "3227      7316  23352\n",
       "137821    3567   3567\n",
       "174346    5594   8335\n",
       "328207    2580  64397\n",
       "...        ...    ...\n",
       "122579    7417  55967\n",
       "304137  286077  23623\n",
       "152315   58477   7444\n",
       "117952    5795  63978\n",
       "305711   10075   8607\n",
       "\n",
       "[17117 rows x 2 columns]"
      ]
     },
     "execution_count": 16,
     "metadata": {},
     "output_type": "execute_result"
    }
   ],
   "source": [
    "sub"
   ]
  },
  {
   "cell_type": "code",
   "execution_count": 17,
   "metadata": {},
   "outputs": [],
   "source": [
    "train, test = train_test_split(sub, random_state = 0, train_size = 0.8, test_size = 0.2)"
   ]
  },
  {
   "cell_type": "code",
   "execution_count": 18,
   "metadata": {},
   "outputs": [],
   "source": [
    "temp = test.values.tolist()\n",
    "testset = []\n",
    "for each in temp:\n",
    "    if each[0] != each[1]:\n",
    "        testset.append(each)"
   ]
  },
  {
   "cell_type": "code",
   "execution_count": 19,
   "metadata": {},
   "outputs": [],
   "source": [
    "S = nx.from_pandas_edgelist(sub,  0,  1)\n",
    "for each in testset:\n",
    "    S.remove_edge(each[0], each[1])"
   ]
  },
  {
   "cell_type": "code",
   "execution_count": null,
   "metadata": {},
   "outputs": [],
   "source": [
    "preds = nx.common_neighbor_centrality(S, testset)"
   ]
  },
  {
   "cell_type": "code",
   "execution_count": null,
   "metadata": {},
   "outputs": [],
   "source": [
    "predicted = []"
   ]
  },
  {
   "cell_type": "code",
   "execution_count": null,
   "metadata": {},
   "outputs": [],
   "source": [
    "for u, v, p in preds:\n",
    "    if p > 0:\n",
    "        predicted.append((u,v,p))\n",
    "    \n"
   ]
  },
  {
   "cell_type": "code",
   "execution_count": null,
   "metadata": {},
   "outputs": [],
   "source": [
    "predicted"
   ]
  },
  {
   "cell_type": "code",
   "execution_count": null,
   "metadata": {},
   "outputs": [],
   "source": [
    "def AUC(G, prediction, n = 100):\n",
    "    notedges = []\n",
    "    while(len(notedges) < n):\n",
    "        node1 = random.choice(list(G.nodes), random_state = 256)\n",
    "        node2 = random.choice(list(G.nodes), random_state = 256)\n",
    "        if not node1 == node2:\n",
    "            if ((node1, node2) not in list(G.edges)):\n",
    "                notedges.append((node1, node2))\n",
    "            elif ((node2, node1) not in list(G.edges)):\n",
    "                notedges.append((node2, node1))\n",
    "    preds = nx.common_neighbor_centrality(G, notedges)\n",
    "    predicted = []\n",
    "    for u, v, p in preds:\n",
    "        if p > 0:\n",
    "            predicted.append((u,v,p))\n",
    "    n1 = 0\n",
    "    n2 = 0\n",
    "    for each in predicted:\n",
    "        temp = random.choice(prediction)\n",
    "        if temp[2] > each[2]:\n",
    "            n1 += 1\n",
    "        elif temp[2] == each[2]:\n",
    "            n2 += 2\n",
    "    auc = (n1 + 0.5*n2)/n\n",
    "    return auc"
   ]
  },
  {
   "cell_type": "code",
   "execution_count": null,
   "metadata": {},
   "outputs": [],
   "source": [
    "auc = AUC(G, predicted)"
   ]
  },
  {
   "cell_type": "code",
   "execution_count": null,
   "metadata": {},
   "outputs": [],
   "source": []
  }
 ],
 "metadata": {
  "kernelspec": {
   "display_name": "Python 3",
   "language": "python",
   "name": "python3"
  },
  "language_info": {
   "codemirror_mode": {
    "name": "ipython",
    "version": 3
   },
   "file_extension": ".py",
   "mimetype": "text/x-python",
   "name": "python",
   "nbconvert_exporter": "python",
   "pygments_lexer": "ipython3",
   "version": "3.7.4"
  }
 },
 "nbformat": 4,
 "nbformat_minor": 2
}
