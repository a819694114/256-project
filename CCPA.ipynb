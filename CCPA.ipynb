{
 "cells": [
  {
   "cell_type": "code",
   "execution_count": 44,
   "metadata": {},
   "outputs": [],
   "source": [
    "import networkx as nx\n",
    "import pandas as pd\n",
    "from sklearn.model_selection import train_test_split\n",
    "import random"
   ]
  },
  {
   "cell_type": "markdown",
   "metadata": {},
   "source": [
    "# Preprocessing"
   ]
  },
  {
   "cell_type": "markdown",
   "metadata": {},
   "source": [
    "Since the graph is big, the actual algorithm would take a really long time to complete. To compute an approximate measure, the graph is reduced to about a h"
   ]
  },
  {
   "cell_type": "code",
   "execution_count": 66,
   "metadata": {},
   "outputs": [],
   "source": [
    "random.seed(256)\n",
    "f = pd.read_csv('PP-Pathways_ppi.csv', header = None)"
   ]
  },
  {
   "cell_type": "code",
   "execution_count": 67,
   "metadata": {},
   "outputs": [],
   "source": [
    "G = nx.from_pandas_edgelist(f,  0,  1)"
   ]
  },
  {
   "cell_type": "code",
   "execution_count": 74,
   "metadata": {},
   "outputs": [],
   "source": [
    "while len(G.nodes) > 10000:\n",
    "    n = random.choice(list(G.nodes))\n",
    "    G.remove_node(n)"
   ]
  },
  {
   "cell_type": "code",
   "execution_count": 78,
   "metadata": {},
   "outputs": [],
   "source": [
    "for each in teste:\n",
    "    G.remove_edge(each[0],each[1])"
   ]
  },
  {
   "cell_type": "code",
   "execution_count": 81,
   "metadata": {},
   "outputs": [],
   "source": [
    "for each in list(G.edges):\n",
    "    if each[0] ==each[1]:\n",
    "        G.remove_edge(each[0], each[1])"
   ]
  },
  {
   "cell_type": "code",
   "execution_count": 83,
   "metadata": {},
   "outputs": [],
   "source": [
    "_, teste = train_test_split(list(G.edges), test_size = 0.2)"
   ]
  },
  {
   "cell_type": "code",
   "execution_count": 84,
   "metadata": {},
   "outputs": [],
   "source": [
    "preds = nx.common_neighbor_centrality(G, teste)\n",
    "predicted = []\n",
    "for u, v, p in preds:\n",
    "    if p > 0:\n",
    "        predicted.append((u,v,p))\n"
   ]
  },
  {
   "cell_type": "markdown",
   "metadata": {},
   "source": [
    "AUC method taken also cited by networkx: https://www.ncbi.nlm.nih.gov/pmc/articles/PMC6962390/"
   ]
  },
  {
   "cell_type": "code",
   "execution_count": 86,
   "metadata": {},
   "outputs": [],
   "source": [
    "notedges = list(nx.non_edges(G))"
   ]
  },
  {
   "cell_type": "code",
   "execution_count": 87,
   "metadata": {},
   "outputs": [],
   "source": [
    "def AUC(prediction, n = 100):\n",
    "    temp = []\n",
    "    while len(temp)<n:\n",
    "        e = random.choice(notedges)\n",
    "        if G.has_node(e[0]) and G.has_node(e[1]):\n",
    "            temp.append(e)\n",
    "    preds = nx.common_neighbor_centrality(G, temp)\n",
    "    predicted = []\n",
    "    for u, v, p in preds:\n",
    "        if p > 0:\n",
    "            predicted.append((u,v,p))\n",
    "    n1 = 0\n",
    "    n2 = 0\n",
    "    for each in predicted:\n",
    "        temp = random.choice(prediction)\n",
    "        if temp[2] > each[2]:\n",
    "            n1 += 1\n",
    "        elif temp[2] == each[2]:\n",
    "            n2 += 2\n",
    "    auc = (n1 + 0.5*n2)/n\n",
    "    return auc"
   ]
  },
  {
   "cell_type": "code",
   "execution_count": 88,
   "metadata": {},
   "outputs": [
    {
     "data": {
      "text/plain": [
       "0.75"
      ]
     },
     "execution_count": 88,
     "metadata": {},
     "output_type": "execute_result"
    }
   ],
   "source": [
    "auc = AUC(predicted)\n",
    "auc"
   ]
  },
  {
   "cell_type": "code",
   "execution_count": 89,
   "metadata": {},
   "outputs": [
    {
     "data": {
      "text/plain": [
       "0.75"
      ]
     },
     "execution_count": 89,
     "metadata": {},
     "output_type": "execute_result"
    }
   ],
   "source": [
    "preds = nx.common_neighbor_centrality(G, teste, alpha = 0.4)\n",
    "predicted = []\n",
    "for u, v, p in preds:\n",
    "    if p > 0:\n",
    "        predicted.append((u,v,p))\n",
    "auc = AUC(predicted)\n",
    "auc"
   ]
  },
  {
   "cell_type": "code",
   "execution_count": 92,
   "metadata": {},
   "outputs": [
    {
     "data": {
      "text/plain": [
       "0.71"
      ]
     },
     "execution_count": 92,
     "metadata": {},
     "output_type": "execute_result"
    }
   ],
   "source": [
    "preds = nx.common_neighbor_centrality(G, teste, alpha = 0.6)\n",
    "predicted = []\n",
    "for u, v, p in preds:\n",
    "    if p > 0:\n",
    "        predicted.append((u,v,p))\n",
    "auc = AUC(predicted)\n",
    "auc"
   ]
  },
  {
   "cell_type": "code",
   "execution_count": null,
   "metadata": {},
   "outputs": [],
   "source": []
  }
 ],
 "metadata": {
  "kernelspec": {
   "display_name": "Python 3",
   "language": "python",
   "name": "python3"
  },
  "language_info": {
   "codemirror_mode": {
    "name": "ipython",
    "version": 3
   },
   "file_extension": ".py",
   "mimetype": "text/x-python",
   "name": "python",
   "nbconvert_exporter": "python",
   "pygments_lexer": "ipython3",
   "version": "3.7.4"
  }
 },
 "nbformat": 4,
 "nbformat_minor": 2
}
