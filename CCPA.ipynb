{
 "cells": [
  {
   "cell_type": "code",
   "execution_count": 34,
   "metadata": {},
   "outputs": [],
   "source": [
    "import networkx as nx\n",
    "import pandas as pd\n",
    "from sklearn.model_selection import train_test_split\n",
    "import random\n",
    "import numpy as np"
   ]
  },
  {
   "cell_type": "markdown",
   "metadata": {},
   "source": [
    "# Preprocessing"
   ]
  },
  {
   "cell_type": "markdown",
   "metadata": {},
   "source": [
    "Since the graph is big, the actual algorithm would take a really long time to complete. To compute an approximate measure, the graph is reduced to about a half size. The number of nodes is reduced to 10000, and self looping edges are removed. "
   ]
  },
  {
   "cell_type": "code",
   "execution_count": 39,
   "metadata": {},
   "outputs": [],
   "source": [
    "random.seed(256)\n",
    "f = pd.read_csv('PP-Pathways_ppi.csv', header = None)"
   ]
  },
  {
   "cell_type": "code",
   "execution_count": 40,
   "metadata": {},
   "outputs": [
    {
     "data": {
      "text/plain": [
       "21557"
      ]
     },
     "execution_count": 40,
     "metadata": {},
     "output_type": "execute_result"
    }
   ],
   "source": [
    "G_base = nx.from_pandas_edgelist(f,  0,  1)\n",
    "len(G_base.nodes)"
   ]
  },
  {
   "cell_type": "code",
   "execution_count": 41,
   "metadata": {},
   "outputs": [],
   "source": [
    "while len(G_base.nodes) > 15000:\n",
    "    n = random.choice(list(G_base.nodes))\n",
    "    G_base.remove_node(n)\n",
    "for each in list(G_base.edges):\n",
    "    if each[0] ==each[1]:\n",
    "        G_base.remove_edge(each[0], each[1])"
   ]
  },
  {
   "cell_type": "markdown",
   "metadata": {},
   "source": [
    "AUC method taken also cited by networkx: https://www.ncbi.nlm.nih.gov/pmc/articles/PMC6962390/"
   ]
  },
  {
   "cell_type": "code",
   "execution_count": 42,
   "metadata": {},
   "outputs": [],
   "source": [
    "notedges = list(nx.non_edges(G_base))"
   ]
  },
  {
   "cell_type": "code",
   "execution_count": 43,
   "metadata": {},
   "outputs": [],
   "source": [
    "def AUC(G, prediction, n = 100, alpha = 0.8):\n",
    "    temp = []\n",
    "    while len(temp)<n:\n",
    "        e = random.choice(notedges)\n",
    "        if G.has_node(e[0]) and G.has_node(e[1]):\n",
    "            temp.append(e)\n",
    "    preds = nx.common_neighbor_centrality(G, temp, alpha = alpha)\n",
    "    predicted = []\n",
    "    for u, v, p in preds:\n",
    "        if p > 0:\n",
    "            predicted.append((u,v,p))\n",
    "    n1 = 0\n",
    "    n2 = 0\n",
    "    for each in predicted:\n",
    "        temp = random.choice(prediction)\n",
    "        if temp[2] > each[2]:\n",
    "            n1 += 1\n",
    "        elif temp[2] == each[2]:\n",
    "            n2 += 2\n",
    "    auc = (n1 + 0.5*n2)/n\n",
    "    return auc"
   ]
  },
  {
   "cell_type": "code",
   "execution_count": 44,
   "metadata": {},
   "outputs": [],
   "source": [
    "_, teste1 = train_test_split(list(G_base.edges), test_size = 0.2, random_state = 111)\n",
    "_, teste2 = train_test_split(list(G_base.edges), test_size = 0.2, random_state = 222)\n",
    "_, teste3 = train_test_split(list(G_base.edges), test_size = 0.2, random_state = 333)\n",
    "_, teste4 = train_test_split(list(G_base.edges), test_size = 0.2, random_state = 444)\n",
    "_, teste5 = train_test_split(list(G_base.edges), test_size = 0.2, random_state = 555)\n",
    "testset = [teste1, teste2, teste3, teste4, teste5]"
   ]
  },
  {
   "cell_type": "code",
   "execution_count": 45,
   "metadata": {},
   "outputs": [],
   "source": [
    "auc_scores = []\n",
    "for test in testset:\n",
    "    G = G_base.copy()\n",
    "    for each in test:\n",
    "        G.remove_edge(each[0],each[1])\n",
    "    preds = nx.common_neighbor_centrality(G, test)\n",
    "    predicted = []\n",
    "    for u, v, p in preds:\n",
    "        if p > 0:\n",
    "            predicted.append((u,v,p))\n",
    "    auc = AUC(G, predicted, alpha = 0.8)\n",
    "    auc_scores.append(auc)\n"
   ]
  },
  {
   "cell_type": "code",
   "execution_count": 46,
   "metadata": {},
   "outputs": [
    {
     "data": {
      "text/plain": [
       "[0.76, 0.76, 0.82, 0.79, 0.9]"
      ]
     },
     "execution_count": 46,
     "metadata": {},
     "output_type": "execute_result"
    }
   ],
   "source": [
    "auc_scores"
   ]
  },
  {
   "cell_type": "code",
   "execution_count": 58,
   "metadata": {},
   "outputs": [
    {
     "data": {
      "text/plain": [
       "0.806"
      ]
     },
     "execution_count": 58,
     "metadata": {},
     "output_type": "execute_result"
    }
   ],
   "source": [
    "np.mean([0.76, 0.76, 0.82, 0.79, 0.9])"
   ]
  },
  {
   "cell_type": "code",
   "execution_count": 48,
   "metadata": {},
   "outputs": [],
   "source": [
    "auc_scores = []\n",
    "for test in testset:\n",
    "    G = G_base.copy()\n",
    "    for each in test:\n",
    "        G.remove_edge(each[0],each[1])\n",
    "    preds = nx.common_neighbor_centrality(G, test, alpha = 0.2)\n",
    "    predicted = []\n",
    "    for u, v, p in preds:\n",
    "        if p > 0:\n",
    "            predicted.append((u,v,p))\n",
    "    auc = AUC(G, predicted, alpha = 0.2)\n",
    "    auc_scores.append(auc)"
   ]
  },
  {
   "cell_type": "code",
   "execution_count": 49,
   "metadata": {},
   "outputs": [
    {
     "data": {
      "text/plain": [
       "[0.77, 0.79, 0.72, 0.71, 0.72]"
      ]
     },
     "execution_count": 49,
     "metadata": {},
     "output_type": "execute_result"
    }
   ],
   "source": [
    "auc_scores"
   ]
  },
  {
   "cell_type": "code",
   "execution_count": 59,
   "metadata": {},
   "outputs": [
    {
     "data": {
      "text/plain": [
       "0.742"
      ]
     },
     "execution_count": 59,
     "metadata": {},
     "output_type": "execute_result"
    }
   ],
   "source": [
    "np.mean([0.77, 0.79, 0.72, 0.71, 0.72])"
   ]
  },
  {
   "cell_type": "code",
   "execution_count": 51,
   "metadata": {},
   "outputs": [],
   "source": [
    "auc_scores = []\n",
    "for test in testset:\n",
    "    G = G_base.copy()\n",
    "    for each in test:\n",
    "        G.remove_edge(each[0],each[1])\n",
    "    preds = nx.common_neighbor_centrality(G, test, alpha = 0.4)\n",
    "    predicted = []\n",
    "    for u, v, p in preds:\n",
    "        if p > 0:\n",
    "            predicted.append((u,v,p))\n",
    "    auc = AUC(G, predicted, alpha = 0.4)\n",
    "    auc_scores.append(auc)"
   ]
  },
  {
   "cell_type": "code",
   "execution_count": 52,
   "metadata": {},
   "outputs": [
    {
     "data": {
      "text/plain": [
       "[0.72, 0.81, 0.71, 0.75, 0.77]"
      ]
     },
     "execution_count": 52,
     "metadata": {},
     "output_type": "execute_result"
    }
   ],
   "source": [
    "auc_scores"
   ]
  },
  {
   "cell_type": "code",
   "execution_count": 60,
   "metadata": {},
   "outputs": [
    {
     "data": {
      "text/plain": [
       "0.752"
      ]
     },
     "execution_count": 60,
     "metadata": {},
     "output_type": "execute_result"
    }
   ],
   "source": [
    "np.mean([0.72, 0.81, 0.71, 0.75, 0.77])"
   ]
  },
  {
   "cell_type": "code",
   "execution_count": 54,
   "metadata": {},
   "outputs": [],
   "source": [
    "auc_scores = []\n",
    "for test in testset:\n",
    "    G = G_base.copy()\n",
    "    for each in test:\n",
    "        G.remove_edge(each[0],each[1])\n",
    "    preds = nx.common_neighbor_centrality(G, test, alpha = 0.6)\n",
    "    predicted = []\n",
    "    for u, v, p in preds:\n",
    "        if p > 0:\n",
    "            predicted.append((u,v,p))\n",
    "    auc = AUC(G, predicted, alpha = 0.6)\n",
    "    auc_scores.append(auc)"
   ]
  },
  {
   "cell_type": "code",
   "execution_count": 55,
   "metadata": {},
   "outputs": [
    {
     "data": {
      "text/plain": [
       "[0.75, 0.87, 0.72, 0.71, 0.84]"
      ]
     },
     "execution_count": 55,
     "metadata": {},
     "output_type": "execute_result"
    }
   ],
   "source": [
    "auc_scores"
   ]
  },
  {
   "cell_type": "code",
   "execution_count": 61,
   "metadata": {},
   "outputs": [
    {
     "data": {
      "text/plain": [
       "0.7779999999999999"
      ]
     },
     "execution_count": 61,
     "metadata": {},
     "output_type": "execute_result"
    }
   ],
   "source": [
    "np.mean([0.75, 0.87, 0.72, 0.71, 0.84])"
   ]
  },
  {
   "cell_type": "code",
   "execution_count": 57,
   "metadata": {},
   "outputs": [],
   "source": [
    "import matplotlib.pyplot as plt"
   ]
  },
  {
   "cell_type": "code",
   "execution_count": 66,
   "metadata": {
    "scrolled": true
   },
   "outputs": [
    {
     "data": {
      "image/png": "[encoded data removed]",
      "text/plain": [
       "<Figure size 432x288 with 1 Axes>"
      ]
     },
     "metadata": {
      "needs_background": "light"
     },
     "output_type": "display_data"
    }
   ],
   "source": [
    "plt.xticks([0.2,0.4,0.6,0.8])\n",
    "plt.xlabel(\"Alpha Parameter\")\n",
    "plt.ylabel(\"AUC\")\n",
    "plt.plot([0.2,0.4,0.6,0.8], [0.742, 0.752, 0.777999, 0.806], color = 'r')\n",
    "plt.savefig('CCPA.png')"
   ]
  },
  {
   "cell_type": "code",
   "execution_count": null,
   "metadata": {},
   "outputs": [],
   "source": []
  },
  {
   "cell_type": "code",
   "execution_count": null,
   "metadata": {},
   "outputs": [],
   "source": []
  }
 ],
 "metadata": {
  "kernelspec": {
   "display_name": "Python 3",
   "language": "python",
   "name": "python3"
  },
  "language_info": {
   "codemirror_mode": {
    "name": "ipython",
    "version": 3
   },
   "file_extension": ".py",
   "mimetype": "text/x-python",
   "name": "python",
   "nbconvert_exporter": "python",
   "pygments_lexer": "ipython3",
   "version": "3.7.4"
  }
 },
 "nbformat": 4,
 "nbformat_minor": 2
}
